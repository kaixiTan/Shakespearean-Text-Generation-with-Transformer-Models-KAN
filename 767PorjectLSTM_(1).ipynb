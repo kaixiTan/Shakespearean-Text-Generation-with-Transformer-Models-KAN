{
  "nbformat": 4,
  "nbformat_minor": 0,
  "metadata": {
    "colab": {
      "provenance": [],
      "gpuType": "T4"
    },
    "kernelspec": {
      "name": "python3",
      "display_name": "Python 3"
    },
    "language_info": {
      "name": "python"
    },
    "accelerator": "GPU"
  },
  "cells": [
    {
      "cell_type": "code",
      "execution_count": null,
      "metadata": {
        "id": "UeUKE5ZXv4Go"
      },
      "outputs": [],
      "source": [
        "import tensorflow as tf\n",
        "import numpy as np\n",
        "import pandas as pd\n",
        "import matplotlib.pyplot as plt\n",
        "\n",
        "from tensorflow.keras.layers import Embedding, LSTM, Dense, Dropout, Bidirectional, GlobalAveragePooling1D\n",
        "from tensorflow.keras.models import Sequential\n",
        "from tensorflow.keras.preprocessing.sequence import pad_sequences\n",
        "from tensorflow.keras.preprocessing.text import Tokenizer\n",
        "from tensorflow.keras.utils import to_categorical"
      ]
    },
    {
      "cell_type": "code",
      "source": [
        "strategy = tf.distribute.MirroredStrategy()\n",
        "data = pd.read_csv(\"/content/drive/MyDrive/767project/Shakespeare_data.csv\")"
      ],
      "metadata": {
        "id": "5JPHCbUzwEdS"
      },
      "execution_count": null,
      "outputs": []
    },
    {
      "cell_type": "code",
      "source": [
        "data.head()"
      ],
      "metadata": {
        "colab": {
          "base_uri": "https://localhost:8080/",
          "height": 293
        },
        "id": "RS58Y0zBwSZa",
        "outputId": "897a5d2f-2a5b-46dc-d79c-e221ee1c7f0d"
      },
      "execution_count": null,
      "outputs": [
        {
          "output_type": "execute_result",
          "data": {
            "text/plain": [
              "   Dataline      Play  PlayerLinenumber ActSceneLine         Player  \\\n",
              "0         1  Henry IV               NaN          NaN            NaN   \n",
              "1         2  Henry IV               NaN          NaN            NaN   \n",
              "2         3  Henry IV               NaN          NaN            NaN   \n",
              "3         4  Henry IV               1.0        1.1.1  KING HENRY IV   \n",
              "4         5  Henry IV               1.0        1.1.2  KING HENRY IV   \n",
              "\n",
              "                                          PlayerLine  \n",
              "0                                              ACT I  \n",
              "1                       SCENE I. London. The palace.  \n",
              "2  Enter KING HENRY, LORD JOHN OF LANCASTER, the ...  \n",
              "3             So shaken as we are, so wan with care,  \n",
              "4         Find we a time for frighted peace to pant,  "
            ],
            "text/html": [
              "\n",
              "  <div id=\"df-eb7a73ec-4ee1-4893-a855-bc1bb3825485\" class=\"colab-df-container\">\n",
              "    <div>\n",
              "<style scoped>\n",
              "    .dataframe tbody tr th:only-of-type {\n",
              "        vertical-align: middle;\n",
              "    }\n",
              "\n",
              "    .dataframe tbody tr th {\n",
              "        vertical-align: top;\n",
              "    }\n",
              "\n",
              "    .dataframe thead th {\n",
              "        text-align: right;\n",
              "    }\n",
              "</style>\n",
              "<table border=\"1\" class=\"dataframe\">\n",
              "  <thead>\n",
              "    <tr style=\"text-align: right;\">\n",
              "      <th></th>\n",
              "      <th>Dataline</th>\n",
              "      <th>Play</th>\n",
              "      <th>PlayerLinenumber</th>\n",
              "      <th>ActSceneLine</th>\n",
              "      <th>Player</th>\n",
              "      <th>PlayerLine</th>\n",
              "    </tr>\n",
              "  </thead>\n",
              "  <tbody>\n",
              "    <tr>\n",
              "      <th>0</th>\n",
              "      <td>1</td>\n",
              "      <td>Henry IV</td>\n",
              "      <td>NaN</td>\n",
              "      <td>NaN</td>\n",
              "      <td>NaN</td>\n",
              "      <td>ACT I</td>\n",
              "    </tr>\n",
              "    <tr>\n",
              "      <th>1</th>\n",
              "      <td>2</td>\n",
              "      <td>Henry IV</td>\n",
              "      <td>NaN</td>\n",
              "      <td>NaN</td>\n",
              "      <td>NaN</td>\n",
              "      <td>SCENE I. London. The palace.</td>\n",
              "    </tr>\n",
              "    <tr>\n",
              "      <th>2</th>\n",
              "      <td>3</td>\n",
              "      <td>Henry IV</td>\n",
              "      <td>NaN</td>\n",
              "      <td>NaN</td>\n",
              "      <td>NaN</td>\n",
              "      <td>Enter KING HENRY, LORD JOHN OF LANCASTER, the ...</td>\n",
              "    </tr>\n",
              "    <tr>\n",
              "      <th>3</th>\n",
              "      <td>4</td>\n",
              "      <td>Henry IV</td>\n",
              "      <td>1.0</td>\n",
              "      <td>1.1.1</td>\n",
              "      <td>KING HENRY IV</td>\n",
              "      <td>So shaken as we are, so wan with care,</td>\n",
              "    </tr>\n",
              "    <tr>\n",
              "      <th>4</th>\n",
              "      <td>5</td>\n",
              "      <td>Henry IV</td>\n",
              "      <td>1.0</td>\n",
              "      <td>1.1.2</td>\n",
              "      <td>KING HENRY IV</td>\n",
              "      <td>Find we a time for frighted peace to pant,</td>\n",
              "    </tr>\n",
              "  </tbody>\n",
              "</table>\n",
              "</div>\n",
              "    <div class=\"colab-df-buttons\">\n",
              "\n",
              "  <div class=\"colab-df-container\">\n",
              "    <button class=\"colab-df-convert\" onclick=\"convertToInteractive('df-eb7a73ec-4ee1-4893-a855-bc1bb3825485')\"\n",
              "            title=\"Convert this dataframe to an interactive table.\"\n",
              "            style=\"display:none;\">\n",
              "\n",
              "  <svg xmlns=\"http://www.w3.org/2000/svg\" height=\"24px\" viewBox=\"0 -960 960 960\">\n",
              "    <path d=\"M120-120v-720h720v720H120Zm60-500h600v-160H180v160Zm220 220h160v-160H400v160Zm0 220h160v-160H400v160ZM180-400h160v-160H180v160Zm440 0h160v-160H620v160ZM180-180h160v-160H180v160Zm440 0h160v-160H620v160Z\"/>\n",
              "  </svg>\n",
              "    </button>\n",
              "\n",
              "  <style>\n",
              "    .colab-df-container {\n",
              "      display:flex;\n",
              "      gap: 12px;\n",
              "    }\n",
              "\n",
              "    .colab-df-convert {\n",
              "      background-color: #E8F0FE;\n",
              "      border: none;\n",
              "      border-radius: 50%;\n",
              "      cursor: pointer;\n",
              "      display: none;\n",
              "      fill: #1967D2;\n",
              "      height: 32px;\n",
              "      padding: 0 0 0 0;\n",
              "      width: 32px;\n",
              "    }\n",
              "\n",
              "    .colab-df-convert:hover {\n",
              "      background-color: #E2EBFA;\n",
              "      box-shadow: 0px 1px 2px rgba(60, 64, 67, 0.3), 0px 1px 3px 1px rgba(60, 64, 67, 0.15);\n",
              "      fill: #174EA6;\n",
              "    }\n",
              "\n",
              "    .colab-df-buttons div {\n",
              "      margin-bottom: 4px;\n",
              "    }\n",
              "\n",
              "    [theme=dark] .colab-df-convert {\n",
              "      background-color: #3B4455;\n",
              "      fill: #D2E3FC;\n",
              "    }\n",
              "\n",
              "    [theme=dark] .colab-df-convert:hover {\n",
              "      background-color: #434B5C;\n",
              "      box-shadow: 0px 1px 3px 1px rgba(0, 0, 0, 0.15);\n",
              "      filter: drop-shadow(0px 1px 2px rgba(0, 0, 0, 0.3));\n",
              "      fill: #FFFFFF;\n",
              "    }\n",
              "  </style>\n",
              "\n",
              "    <script>\n",
              "      const buttonEl =\n",
              "        document.querySelector('#df-eb7a73ec-4ee1-4893-a855-bc1bb3825485 button.colab-df-convert');\n",
              "      buttonEl.style.display =\n",
              "        google.colab.kernel.accessAllowed ? 'block' : 'none';\n",
              "\n",
              "      async function convertToInteractive(key) {\n",
              "        const element = document.querySelector('#df-eb7a73ec-4ee1-4893-a855-bc1bb3825485');\n",
              "        const dataTable =\n",
              "          await google.colab.kernel.invokeFunction('convertToInteractive',\n",
              "                                                    [key], {});\n",
              "        if (!dataTable) return;\n",
              "\n",
              "        const docLinkHtml = 'Like what you see? Visit the ' +\n",
              "          '<a target=\"_blank\" href=https://colab.research.google.com/notebooks/data_table.ipynb>data table notebook</a>'\n",
              "          + ' to learn more about interactive tables.';\n",
              "        element.innerHTML = '';\n",
              "        dataTable['output_type'] = 'display_data';\n",
              "        await google.colab.output.renderOutput(dataTable, element);\n",
              "        const docLink = document.createElement('div');\n",
              "        docLink.innerHTML = docLinkHtml;\n",
              "        element.appendChild(docLink);\n",
              "      }\n",
              "    </script>\n",
              "  </div>\n",
              "\n",
              "\n",
              "<div id=\"df-ec1905ab-4122-41ed-b943-c0ce1575a6db\">\n",
              "  <button class=\"colab-df-quickchart\" onclick=\"quickchart('df-ec1905ab-4122-41ed-b943-c0ce1575a6db')\"\n",
              "            title=\"Suggest charts\"\n",
              "            style=\"display:none;\">\n",
              "\n",
              "<svg xmlns=\"http://www.w3.org/2000/svg\" height=\"24px\"viewBox=\"0 0 24 24\"\n",
              "     width=\"24px\">\n",
              "    <g>\n",
              "        <path d=\"M19 3H5c-1.1 0-2 .9-2 2v14c0 1.1.9 2 2 2h14c1.1 0 2-.9 2-2V5c0-1.1-.9-2-2-2zM9 17H7v-7h2v7zm4 0h-2V7h2v10zm4 0h-2v-4h2v4z\"/>\n",
              "    </g>\n",
              "</svg>\n",
              "  </button>\n",
              "\n",
              "<style>\n",
              "  .colab-df-quickchart {\n",
              "      --bg-color: #E8F0FE;\n",
              "      --fill-color: #1967D2;\n",
              "      --hover-bg-color: #E2EBFA;\n",
              "      --hover-fill-color: #174EA6;\n",
              "      --disabled-fill-color: #AAA;\n",
              "      --disabled-bg-color: #DDD;\n",
              "  }\n",
              "\n",
              "  [theme=dark] .colab-df-quickchart {\n",
              "      --bg-color: #3B4455;\n",
              "      --fill-color: #D2E3FC;\n",
              "      --hover-bg-color: #434B5C;\n",
              "      --hover-fill-color: #FFFFFF;\n",
              "      --disabled-bg-color: #3B4455;\n",
              "      --disabled-fill-color: #666;\n",
              "  }\n",
              "\n",
              "  .colab-df-quickchart {\n",
              "    background-color: var(--bg-color);\n",
              "    border: none;\n",
              "    border-radius: 50%;\n",
              "    cursor: pointer;\n",
              "    display: none;\n",
              "    fill: var(--fill-color);\n",
              "    height: 32px;\n",
              "    padding: 0;\n",
              "    width: 32px;\n",
              "  }\n",
              "\n",
              "  .colab-df-quickchart:hover {\n",
              "    background-color: var(--hover-bg-color);\n",
              "    box-shadow: 0 1px 2px rgba(60, 64, 67, 0.3), 0 1px 3px 1px rgba(60, 64, 67, 0.15);\n",
              "    fill: var(--button-hover-fill-color);\n",
              "  }\n",
              "\n",
              "  .colab-df-quickchart-complete:disabled,\n",
              "  .colab-df-quickchart-complete:disabled:hover {\n",
              "    background-color: var(--disabled-bg-color);\n",
              "    fill: var(--disabled-fill-color);\n",
              "    box-shadow: none;\n",
              "  }\n",
              "\n",
              "  .colab-df-spinner {\n",
              "    border: 2px solid var(--fill-color);\n",
              "    border-color: transparent;\n",
              "    border-bottom-color: var(--fill-color);\n",
              "    animation:\n",
              "      spin 1s steps(1) infinite;\n",
              "  }\n",
              "\n",
              "  @keyframes spin {\n",
              "    0% {\n",
              "      border-color: transparent;\n",
              "      border-bottom-color: var(--fill-color);\n",
              "      border-left-color: var(--fill-color);\n",
              "    }\n",
              "    20% {\n",
              "      border-color: transparent;\n",
              "      border-left-color: var(--fill-color);\n",
              "      border-top-color: var(--fill-color);\n",
              "    }\n",
              "    30% {\n",
              "      border-color: transparent;\n",
              "      border-left-color: var(--fill-color);\n",
              "      border-top-color: var(--fill-color);\n",
              "      border-right-color: var(--fill-color);\n",
              "    }\n",
              "    40% {\n",
              "      border-color: transparent;\n",
              "      border-right-color: var(--fill-color);\n",
              "      border-top-color: var(--fill-color);\n",
              "    }\n",
              "    60% {\n",
              "      border-color: transparent;\n",
              "      border-right-color: var(--fill-color);\n",
              "    }\n",
              "    80% {\n",
              "      border-color: transparent;\n",
              "      border-right-color: var(--fill-color);\n",
              "      border-bottom-color: var(--fill-color);\n",
              "    }\n",
              "    90% {\n",
              "      border-color: transparent;\n",
              "      border-bottom-color: var(--fill-color);\n",
              "    }\n",
              "  }\n",
              "</style>\n",
              "\n",
              "  <script>\n",
              "    async function quickchart(key) {\n",
              "      const quickchartButtonEl =\n",
              "        document.querySelector('#' + key + ' button');\n",
              "      quickchartButtonEl.disabled = true;  // To prevent multiple clicks.\n",
              "      quickchartButtonEl.classList.add('colab-df-spinner');\n",
              "      try {\n",
              "        const charts = await google.colab.kernel.invokeFunction(\n",
              "            'suggestCharts', [key], {});\n",
              "      } catch (error) {\n",
              "        console.error('Error during call to suggestCharts:', error);\n",
              "      }\n",
              "      quickchartButtonEl.classList.remove('colab-df-spinner');\n",
              "      quickchartButtonEl.classList.add('colab-df-quickchart-complete');\n",
              "    }\n",
              "    (() => {\n",
              "      let quickchartButtonEl =\n",
              "        document.querySelector('#df-ec1905ab-4122-41ed-b943-c0ce1575a6db button');\n",
              "      quickchartButtonEl.style.display =\n",
              "        google.colab.kernel.accessAllowed ? 'block' : 'none';\n",
              "    })();\n",
              "  </script>\n",
              "</div>\n",
              "\n",
              "    </div>\n",
              "  </div>\n"
            ],
            "application/vnd.google.colaboratory.intrinsic+json": {
              "type": "dataframe",
              "variable_name": "data"
            }
          },
          "metadata": {},
          "execution_count": 3
        }
      ]
    },
    {
      "cell_type": "code",
      "source": [
        "dataset = data['PlayerLine']\n",
        "subset_size = int(len(dataset) * 0.10)\n",
        "subset_indices = np.random.choice(range(len(dataset)), size=subset_size, replace=False)\n",
        "subset_dataset = dataset[subset_indices]\n",
        "dataset = subset_dataset"
      ],
      "metadata": {
        "id": "UEgqBenewTPq"
      },
      "execution_count": null,
      "outputs": []
    },
    {
      "cell_type": "code",
      "source": [
        "corpus = []\n",
        "with strategy.scope():\n",
        "    for line in dataset:\n",
        "        lowercase_line = line.lower()\n",
        "        corpus.append(lowercase_line)\n",
        "corpus[:10]"
      ],
      "metadata": {
        "colab": {
          "base_uri": "https://localhost:8080/"
        },
        "id": "US1o8bw6wViq",
        "outputId": "1dd2d407-5608-4ebf-d54e-2c81059a4d5d"
      },
      "execution_count": null,
      "outputs": [
        {
          "output_type": "execute_result",
          "data": {
            "text/plain": [
              "['from all such devils, good lord deliver us!',\n",
              " 'is torn from forth that pretty hollow cage,',\n",
              " 'how thaliard came full bent with sin',\n",
              " \"the mansion where!--'twas at a feast,--o, would\",\n",
              " 'we shall have him here to-morrow with his best ruff on.',\n",
              " 'drawing',\n",
              " 'scoff on, vile fiend and shameless courtezan!',\n",
              " \"friend, look to 't.\",\n",
              " 'thou shalt know her, fellow, by the rest that have no heads.',\n",
              " 'an into their estimation and report: but he hath so']"
            ]
          },
          "metadata": {},
          "execution_count": 5
        }
      ]
    },
    {
      "cell_type": "code",
      "source": [
        "tokenizer = Tokenizer()\n",
        "tokenizer.fit_on_texts(corpus)\n",
        "word_to_token = tokenizer.word_index\n",
        "def key_pair(num):\n",
        "    count=0\n",
        "    for key, value in word_to_token.items():\n",
        "        if count>=num: break\n",
        "        print(f''''{key:}': {value},''')\n",
        "        count +=1\n",
        "key_pair(10)"
      ],
      "metadata": {
        "colab": {
          "base_uri": "https://localhost:8080/"
        },
        "id": "jSabxGVHwXHB",
        "outputId": "5769496a-7ee2-4e2d-c1ce-2fb0b1623724"
      },
      "execution_count": null,
      "outputs": [
        {
          "output_type": "stream",
          "name": "stdout",
          "text": [
            "'the': 1,\n",
            "'and': 2,\n",
            "'i': 3,\n",
            "'to': 4,\n",
            "'of': 5,\n",
            "'a': 6,\n",
            "'you': 7,\n",
            "'my': 8,\n",
            "'that': 9,\n",
            "'in': 10,\n"
          ]
        }
      ]
    },
    {
      "cell_type": "code",
      "source": [
        "\n",
        "input_sequences = []\n",
        "with strategy.scope():\n",
        "    for line in corpus:\n",
        "        token_list = tokenizer.texts_to_sequences([line])[0]\n",
        "        for i in range(1, len(token_list)):\n",
        "            n_gram_sequence = token_list[:i+1]\n",
        "            input_sequences.append(n_gram_sequence)\n"
      ],
      "metadata": {
        "id": "yLhmP9WKwfCK"
      },
      "execution_count": null,
      "outputs": []
    },
    {
      "cell_type": "code",
      "source": [
        "input_sequences[:5]"
      ],
      "metadata": {
        "colab": {
          "base_uri": "https://localhost:8080/"
        },
        "id": "KuEC2MKbwk4j",
        "outputId": "e23c6cd0-dc7d-49c7-b0aa-c5e4b68459cc"
      },
      "execution_count": null,
      "outputs": [
        {
          "output_type": "execute_result",
          "data": {
            "text/plain": [
              "[[47, 33],\n",
              " [47, 33, 81],\n",
              " [47, 33, 81, 1285],\n",
              " [47, 33, 81, 1285, 44],\n",
              " [47, 33, 81, 1285, 44, 43]]"
            ]
          },
          "metadata": {},
          "execution_count": 8
        }
      ]
    },
    {
      "cell_type": "code",
      "source": [
        "before = input_sequences[1]\n",
        "max_seq_len = max(len(x) for x in input_sequences)\n",
        "print(max_seq_len)"
      ],
      "metadata": {
        "colab": {
          "base_uri": "https://localhost:8080/"
        },
        "id": "jCpRJwY0w6b7",
        "outputId": "d457c481-1974-4bd3-fcec-c70e2aa4d58e"
      },
      "execution_count": null,
      "outputs": [
        {
          "output_type": "stream",
          "name": "stdout",
          "text": [
            "35\n"
          ]
        }
      ]
    },
    {
      "cell_type": "code",
      "source": [
        "total_words = len(word_to_token)+1\n",
        "print(total_words)"
      ],
      "metadata": {
        "colab": {
          "base_uri": "https://localhost:8080/"
        },
        "id": "SroLMMpZxOZi",
        "outputId": "299774af-dcb1-4885-f1e7-ee6e69e14667"
      },
      "execution_count": null,
      "outputs": [
        {
          "output_type": "stream",
          "name": "stdout",
          "text": [
            "9054\n"
          ]
        }
      ]
    },
    {
      "cell_type": "code",
      "source": [
        "# Padding\n",
        "input_sequences = np.array(pad_sequences(input_sequences, maxlen=max_seq_len, padding = 'pre'))\n",
        "after = input_sequences[1]"
      ],
      "metadata": {
        "id": "0Q6RTBngwp6D"
      },
      "execution_count": null,
      "outputs": []
    },
    {
      "cell_type": "code",
      "source": [
        "print(f'Before: {before}')\n",
        "print(f'After: {after}')"
      ],
      "metadata": {
        "colab": {
          "base_uri": "https://localhost:8080/"
        },
        "id": "oMepKKNMw8bK",
        "outputId": "9eb8f266-7ad5-4748-d573-193a903d18b4"
      },
      "execution_count": null,
      "outputs": [
        {
          "output_type": "stream",
          "name": "stdout",
          "text": [
            "Before: [47, 33, 81]\n",
            "After: [ 0  0  0  0  0  0  0  0  0  0  0  0  0  0  0  0  0  0  0  0  0  0  0  0\n",
            "  0  0  0  0  0  0  0  0 47 33 81]\n"
          ]
        }
      ]
    },
    {
      "cell_type": "code",
      "source": [
        "features, labels = input_sequences[:, :-1], input_sequences[:, -1],\n",
        "labels = tf.keras.utils.to_categorical(labels, num_classes=total_words)"
      ],
      "metadata": {
        "id": "HJvG5FHCxGhC"
      },
      "execution_count": null,
      "outputs": []
    },
    {
      "cell_type": "code",
      "source": [
        "#Create the model!\n",
        "def generator_model():\n",
        "    tf.random.set_seed(42)\n",
        "    model = Sequential()\n",
        "    model.add(Embedding(total_words, 100, input_length = max_seq_len-1)),\n",
        "    model.add(Bidirectional(LSTM(64, return_sequences = True))),\n",
        "    model.add(Bidirectional(LSTM(32))),\n",
        "    model.add(Dense(64, activation = 'relu')),\n",
        "    model.add(Dense(total_words, activation = 'softmax'))\n",
        "    return model"
      ],
      "metadata": {
        "id": "rWN92vjbxWNb"
      },
      "execution_count": null,
      "outputs": []
    },
    {
      "cell_type": "code",
      "source": [
        "with strategy.scope():\n",
        "    model = generator_model()\n",
        "    model.compile(loss = 'categorical_crossentropy',\n",
        "                 optimizer = tf.keras.optimizers.Adam(),\n",
        "                 metrics = ['accuracy'])"
      ],
      "metadata": {
        "id": "4dOs4paqxbvy"
      },
      "execution_count": null,
      "outputs": []
    },
    {
      "cell_type": "code",
      "source": [
        "model.summary()"
      ],
      "metadata": {
        "colab": {
          "base_uri": "https://localhost:8080/"
        },
        "id": "8Pry1vmYxdGS",
        "outputId": "9005af8b-aa92-48a3-c41c-59df37c078d7"
      },
      "execution_count": null,
      "outputs": [
        {
          "output_type": "stream",
          "name": "stdout",
          "text": [
            "Model: \"sequential\"\n",
            "_________________________________________________________________\n",
            " Layer (type)                Output Shape              Param #   \n",
            "=================================================================\n",
            " embedding (Embedding)       (None, 34, 100)           905400    \n",
            "                                                                 \n",
            " bidirectional (Bidirection  (None, 34, 128)           84480     \n",
            " al)                                                             \n",
            "                                                                 \n",
            " bidirectional_1 (Bidirecti  (None, 64)                41216     \n",
            " onal)                                                           \n",
            "                                                                 \n",
            " dense (Dense)               (None, 64)                4160      \n",
            "                                                                 \n",
            " dense_1 (Dense)             (None, 9054)              588510    \n",
            "                                                                 \n",
            "=================================================================\n",
            "Total params: 1623766 (6.19 MB)\n",
            "Trainable params: 1623766 (6.19 MB)\n",
            "Non-trainable params: 0 (0.00 Byte)\n",
            "_________________________________________________________________\n"
          ]
        }
      ]
    },
    {
      "cell_type": "code",
      "source": [
        "EPOCHS = 50\n",
        "BATCH_SIZE = 8\n",
        "history = model.fit(features, labels, epochs=EPOCHS, batch_size=BATCH_SIZE)"
      ],
      "metadata": {
        "colab": {
          "base_uri": "https://localhost:8080/"
        },
        "id": "uAKPIzTCxecb",
        "outputId": "5f229a9b-1586-470d-cafd-5513315ec850"
      },
      "execution_count": null,
      "outputs": [
        {
          "output_type": "stream",
          "name": "stdout",
          "text": [
            "Epoch 1/50\n",
            "8865/8865 [==============================] - 182s 20ms/step - loss: 6.9822 - accuracy: 0.0338\n",
            "Epoch 2/50\n",
            "8865/8865 [==============================] - 158s 18ms/step - loss: 6.6604 - accuracy: 0.0465\n",
            "Epoch 3/50\n",
            "8865/8865 [==============================] - 158s 18ms/step - loss: 6.4260 - accuracy: 0.0600\n",
            "Epoch 4/50\n",
            "8865/8865 [==============================] - 157s 18ms/step - loss: 6.2641 - accuracy: 0.0680\n",
            "Epoch 5/50\n",
            "8865/8865 [==============================] - 156s 18ms/step - loss: 6.1420 - accuracy: 0.0723\n",
            "Epoch 6/50\n",
            "8865/8865 [==============================] - 155s 18ms/step - loss: 6.0362 - accuracy: 0.0795\n",
            "Epoch 7/50\n",
            "8865/8865 [==============================] - 155s 18ms/step - loss: 5.9378 - accuracy: 0.0859\n",
            "Epoch 8/50\n",
            "8865/8865 [==============================] - 157s 18ms/step - loss: 5.8386 - accuracy: 0.0905\n",
            "Epoch 9/50\n",
            "8865/8865 [==============================] - 155s 17ms/step - loss: 5.7458 - accuracy: 0.0944\n",
            "Epoch 10/50\n",
            "8865/8865 [==============================] - 154s 17ms/step - loss: 5.6655 - accuracy: 0.0982\n",
            "Epoch 11/50\n",
            "8865/8865 [==============================] - 154s 17ms/step - loss: 5.5908 - accuracy: 0.1019\n",
            "Epoch 12/50\n",
            "8865/8865 [==============================] - 153s 17ms/step - loss: 5.5173 - accuracy: 0.1060\n",
            "Epoch 13/50\n",
            "8865/8865 [==============================] - 155s 18ms/step - loss: 5.4502 - accuracy: 0.1100\n",
            "Epoch 14/50\n",
            "8865/8865 [==============================] - 155s 17ms/step - loss: 5.3876 - accuracy: 0.1128\n",
            "Epoch 15/50\n",
            "8865/8865 [==============================] - 154s 17ms/step - loss: 5.3254 - accuracy: 0.1170\n",
            "Epoch 16/50\n",
            "8865/8865 [==============================] - 153s 17ms/step - loss: 5.2634 - accuracy: 0.1199\n",
            "Epoch 17/50\n",
            "8865/8865 [==============================] - 153s 17ms/step - loss: 5.2041 - accuracy: 0.1229\n",
            "Epoch 18/50\n",
            "8865/8865 [==============================] - 153s 17ms/step - loss: 5.1336 - accuracy: 0.1271\n",
            "Epoch 19/50\n",
            "8865/8865 [==============================] - 156s 18ms/step - loss: 5.0685 - accuracy: 0.1303\n",
            "Epoch 20/50\n",
            "8865/8865 [==============================] - 153s 17ms/step - loss: 5.0014 - accuracy: 0.1352\n",
            "Epoch 21/50\n",
            "8865/8865 [==============================] - 158s 18ms/step - loss: 4.9383 - accuracy: 0.1394\n",
            "Epoch 22/50\n",
            "8865/8865 [==============================] - 153s 17ms/step - loss: 4.8790 - accuracy: 0.1435\n",
            "Epoch 23/50\n",
            "8865/8865 [==============================] - 154s 17ms/step - loss: 4.8235 - accuracy: 0.1466\n",
            "Epoch 24/50\n",
            "8865/8865 [==============================] - 154s 17ms/step - loss: 4.7651 - accuracy: 0.1506\n",
            "Epoch 25/50\n",
            "8865/8865 [==============================] - 154s 17ms/step - loss: 4.7129 - accuracy: 0.1550\n",
            "Epoch 26/50\n",
            "8865/8865 [==============================] - 154s 17ms/step - loss: 4.6654 - accuracy: 0.1582\n",
            "Epoch 27/50\n",
            "8865/8865 [==============================] - 154s 17ms/step - loss: 4.6175 - accuracy: 0.1636\n",
            "Epoch 28/50\n",
            "8865/8865 [==============================] - 154s 17ms/step - loss: 4.5778 - accuracy: 0.1669\n",
            "Epoch 29/50\n",
            "8865/8865 [==============================] - 154s 17ms/step - loss: 4.5369 - accuracy: 0.1703\n",
            "Epoch 30/50\n",
            "8865/8865 [==============================] - 154s 17ms/step - loss: 4.5002 - accuracy: 0.1723\n",
            "Epoch 31/50\n",
            "8865/8865 [==============================] - 154s 17ms/step - loss: 4.4663 - accuracy: 0.1765\n",
            "Epoch 32/50\n",
            "8865/8865 [==============================] - 156s 18ms/step - loss: 4.4298 - accuracy: 0.1788\n",
            "Epoch 33/50\n",
            "8865/8865 [==============================] - 156s 18ms/step - loss: 4.3988 - accuracy: 0.1831\n",
            "Epoch 34/50\n",
            "8865/8865 [==============================] - 153s 17ms/step - loss: 4.3652 - accuracy: 0.1859\n",
            "Epoch 35/50\n",
            "8865/8865 [==============================] - 156s 18ms/step - loss: 4.3357 - accuracy: 0.1899\n",
            "Epoch 36/50\n",
            "8865/8865 [==============================] - 154s 17ms/step - loss: 4.3067 - accuracy: 0.1916\n",
            "Epoch 37/50\n",
            "8865/8865 [==============================] - 154s 17ms/step - loss: 4.2717 - accuracy: 0.1959\n",
            "Epoch 38/50\n",
            "8865/8865 [==============================] - 156s 18ms/step - loss: 4.2457 - accuracy: 0.1991\n",
            "Epoch 39/50\n",
            "8865/8865 [==============================] - 155s 18ms/step - loss: 4.2163 - accuracy: 0.2015\n",
            "Epoch 40/50\n",
            "8865/8865 [==============================] - 155s 17ms/step - loss: 4.1887 - accuracy: 0.2037\n",
            "Epoch 41/50\n",
            "8865/8865 [==============================] - 174s 20ms/step - loss: 4.1584 - accuracy: 0.2079\n",
            "Epoch 42/50\n",
            "8865/8865 [==============================] - 186s 21ms/step - loss: 4.1299 - accuracy: 0.2116\n",
            "Epoch 43/50\n",
            "8865/8865 [==============================] - 202s 23ms/step - loss: 4.1101 - accuracy: 0.2131\n",
            "Epoch 44/50\n",
            "8865/8865 [==============================] - 201s 23ms/step - loss: 4.0841 - accuracy: 0.2163\n",
            "Epoch 45/50\n",
            "8865/8865 [==============================] - 196s 22ms/step - loss: 4.0490 - accuracy: 0.2194\n",
            "Epoch 46/50\n",
            "8865/8865 [==============================] - 201s 23ms/step - loss: 4.0308 - accuracy: 0.2220\n",
            "Epoch 47/50\n",
            "8865/8865 [==============================] - 194s 22ms/step - loss: 4.0016 - accuracy: 0.2250\n",
            "Epoch 48/50\n",
            "8865/8865 [==============================] - 185s 21ms/step - loss: 3.9824 - accuracy: 0.2271\n",
            "Epoch 49/50\n",
            "8865/8865 [==============================] - 192s 22ms/step - loss: 3.9571 - accuracy: 0.2302\n",
            "Epoch 50/50\n",
            "8865/8865 [==============================] - 187s 21ms/step - loss: 3.9436 - accuracy: 0.2333\n"
          ]
        }
      ]
    },
    {
      "cell_type": "code",
      "source": [
        "model.save('LSTM model')"
      ],
      "metadata": {
        "id": "zqMmvpSM0aMs"
      },
      "execution_count": null,
      "outputs": []
    },
    {
      "cell_type": "code",
      "source": [
        "def test_generator(string, num):\n",
        "    if len(string)==0:\n",
        "        print(\"Error: No word found\")\n",
        "        return\n",
        "    for _ in range(num):\n",
        "        token_list = tokenizer.texts_to_sequences([string])[0]\n",
        "        token_list = pad_sequences([token_list], maxlen=max_seq_len-1, padding = \"pre\")\n",
        "        probabilities = model.predict(token_list)\n",
        "        choice = np.random.choice([1,2,3])\n",
        "        predicted = np.argsort(probabilities, axis = -1)[0][-choice]\n",
        "        if predicted !=0:\n",
        "            generated_word = tokenizer.index_word[predicted]\n",
        "            string += \" \" + generated_word\n",
        "    print(string)"
      ],
      "metadata": {
        "id": "aK8lpowY0gX8"
      },
      "execution_count": null,
      "outputs": []
    },
    {
      "cell_type": "code",
      "source": [
        "test_generator(\"long live the king\", 30)"
      ],
      "metadata": {
        "colab": {
          "base_uri": "https://localhost:8080/"
        },
        "id": "bYwj7Q150jOc",
        "outputId": "0ea480a5-f016-470d-d5ec-16b7f9463379"
      },
      "execution_count": null,
      "outputs": [
        {
          "output_type": "stream",
          "name": "stdout",
          "text": [
            "1/1 [==============================] - 2s 2s/step\n",
            "1/1 [==============================] - 0s 85ms/step\n",
            "1/1 [==============================] - 0s 76ms/step\n",
            "1/1 [==============================] - 0s 82ms/step\n",
            "1/1 [==============================] - 0s 94ms/step\n",
            "1/1 [==============================] - 0s 85ms/step\n",
            "1/1 [==============================] - 0s 86ms/step\n",
            "1/1 [==============================] - 0s 103ms/step\n",
            "1/1 [==============================] - 0s 88ms/step\n",
            "1/1 [==============================] - 0s 82ms/step\n",
            "1/1 [==============================] - 0s 82ms/step\n",
            "1/1 [==============================] - 0s 81ms/step\n",
            "1/1 [==============================] - 0s 89ms/step\n",
            "1/1 [==============================] - 0s 91ms/step\n",
            "1/1 [==============================] - 0s 89ms/step\n",
            "1/1 [==============================] - 0s 87ms/step\n",
            "1/1 [==============================] - 0s 87ms/step\n",
            "1/1 [==============================] - 0s 88ms/step\n",
            "1/1 [==============================] - 0s 83ms/step\n",
            "1/1 [==============================] - 0s 101ms/step\n",
            "1/1 [==============================] - 0s 96ms/step\n",
            "1/1 [==============================] - 0s 83ms/step\n",
            "1/1 [==============================] - 0s 80ms/step\n",
            "1/1 [==============================] - 0s 93ms/step\n",
            "1/1 [==============================] - 0s 86ms/step\n",
            "1/1 [==============================] - 0s 88ms/step\n",
            "1/1 [==============================] - 0s 89ms/step\n",
            "1/1 [==============================] - 1s 1s/step\n",
            "1/1 [==============================] - 0s 135ms/step\n",
            "1/1 [==============================] - 0s 112ms/step\n",
            "long live the king should go from justice so soon be an ass that's not in all margaret under this shape shall give me this night now you may not do a very spirit\n"
          ]
        }
      ]
    },
    {
      "cell_type": "code",
      "source": [
        "test_generator(\"Life\", 10)"
      ],
      "metadata": {
        "colab": {
          "base_uri": "https://localhost:8080/"
        },
        "id": "uTCYbVvtVS2e",
        "outputId": "6c083c26-f6e7-40a4-98fa-95f60947fe35"
      },
      "execution_count": null,
      "outputs": [
        {
          "output_type": "stream",
          "name": "stdout",
          "text": [
            "1/1 [==============================] - 0s 87ms/step\n",
            "1/1 [==============================] - 0s 94ms/step\n",
            "1/1 [==============================] - 0s 83ms/step\n",
            "1/1 [==============================] - 0s 85ms/step\n",
            "1/1 [==============================] - 0s 85ms/step\n",
            "1/1 [==============================] - 0s 99ms/step\n",
            "1/1 [==============================] - 0s 87ms/step\n",
            "1/1 [==============================] - 0s 92ms/step\n",
            "1/1 [==============================] - 0s 85ms/step\n",
            "1/1 [==============================] - 0s 102ms/step\n",
            "Life like the man i' my upon is worse being no\n"
          ]
        }
      ]
    },
    {
      "cell_type": "code",
      "source": [
        "test_generator(\"Dream\", 10)"
      ],
      "metadata": {
        "colab": {
          "base_uri": "https://localhost:8080/"
        },
        "id": "212w25tcVUs_",
        "outputId": "0dc0c339-62bc-44e2-f0d4-6d2b7d425caa"
      },
      "execution_count": null,
      "outputs": [
        {
          "output_type": "stream",
          "name": "stdout",
          "text": [
            "1/1 [==============================] - 0s 80ms/step\n",
            "1/1 [==============================] - 0s 87ms/step\n",
            "1/1 [==============================] - 0s 85ms/step\n",
            "1/1 [==============================] - 0s 82ms/step\n",
            "1/1 [==============================] - 0s 78ms/step\n",
            "1/1 [==============================] - 0s 101ms/step\n",
            "1/1 [==============================] - 0s 81ms/step\n",
            "1/1 [==============================] - 0s 80ms/step\n",
            "1/1 [==============================] - 0s 80ms/step\n",
            "1/1 [==============================] - 0s 105ms/step\n",
            "Dream on the cap of his sorrow of the man that\n"
          ]
        }
      ]
    }
  ]
}